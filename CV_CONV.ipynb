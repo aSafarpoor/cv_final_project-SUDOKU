{
  "nbformat": 4,
  "nbformat_minor": 0,
  "metadata": {
    "kernelspec": {
      "name": "python3",
      "display_name": "Python 3"
    },
    "language_info": {
      "codemirror_mode": {
        "name": "ipython",
        "version": 3
      },
      "file_extension": ".py",
      "mimetype": "text/x-python",
      "name": "python",
      "nbconvert_exporter": "python",
      "pygments_lexer": "ipython3",
      "version": "3.6.7"
    },
    "colab": {
      "name": "CV_CONV.ipynb",
      "provenance": [],
      "collapsed_sections": [],
      "toc_visible": true
    },
    "accelerator": "TPU"
  },
  "cells": [
    {
      "cell_type": "markdown",
      "metadata": {
        "id": "ezXPaUiPxlF5",
        "colab_type": "text"
      },
      "source": [
        "## Dataset Loading"
      ]
    },
    {
      "cell_type": "code",
      "metadata": {
        "id": "UoIloa4XCMHP",
        "colab_type": "code",
        "outputId": "1912aa43-dd61-429b-c839-a0713058864e",
        "colab": {
          "base_uri": "https://localhost:8080/",
          "height": 105
        }
      },
      "source": [
        "!git clone https://github.com/amir-saniyan/HodaDatasetReader.git\n",
        "%cd /content/HodaDatasetReader/"
      ],
      "execution_count": 0,
      "outputs": [
        {
          "output_type": "stream",
          "text": [
            "Cloning into 'HodaDatasetReader'...\n",
            "remote: Enumerating objects: 24, done.\u001b[K\n",
            "remote: Total 24 (delta 0), reused 0 (delta 0), pack-reused 24\u001b[K\n",
            "Unpacking objects: 100% (24/24), done.\n",
            "/content/HodaDatasetReader\n"
          ],
          "name": "stdout"
        }
      ]
    },
    {
      "cell_type": "code",
      "metadata": {
        "id": "GeY5JgiwAQX8",
        "colab_type": "code",
        "outputId": "bd8b39f9-57b1-40f3-9902-45172ee505ed",
        "colab": {
          "base_uri": "https://localhost:8080/",
          "height": 52
        }
      },
      "source": [
        "from HodaDatasetReader import read_hoda_dataset\n",
        "\n",
        "\n",
        "x_train, y_train = read_hoda_dataset(dataset_path='./DigitDB/Train 60000.cdb',\n",
        "                                images_height=32,\n",
        "                                images_width=32,\n",
        "                                one_hot=True,\n",
        "                                reshape=False\n",
        "                                )\n",
        "print('Reading Test 20000.cdb ...')\n",
        "x_test, y_test = read_hoda_dataset('./DigitDB/Test 20000.cdb',\n",
        "                                        images_height=32,\n",
        "                                         images_width = 32,\n",
        "                                         one_hot=True,\n",
        "                                         reshape=False  \n",
        "                                        )\n",
        "\n",
        "\n",
        "print('Reading RemainingSamples.cdb ...')\n",
        "remaining_images, remaining_labels = read_hoda_dataset('./DigitDB/RemainingSamples.cdb', images_height=32,\n",
        "                                         images_width = 32,\n",
        "                                         one_hot=True,)"
      ],
      "execution_count": 0,
      "outputs": [
        {
          "output_type": "stream",
          "text": [
            "Reading Test 20000.cdb ...\n",
            "Reading RemainingSamples.cdb ...\n"
          ],
          "name": "stdout"
        }
      ]
    },
    {
      "cell_type": "markdown",
      "metadata": {
        "id": "HDNDGaZfxccv",
        "colab_type": "text"
      },
      "source": [
        "## Metrics"
      ]
    },
    {
      "cell_type": "markdown",
      "metadata": {
        "id": "rxFkjll1xjCR",
        "colab_type": "text"
      },
      "source": [
        ""
      ]
    },
    {
      "cell_type": "code",
      "metadata": {
        "id": "LKgLN1IaFKwZ",
        "colab_type": "code",
        "outputId": "18406142-04b2-45f9-d181-9bb96dc02629",
        "colab": {
          "base_uri": "https://localhost:8080/",
          "height": 35
        }
      },
      "source": [
        "from keras.optimizers import Adam\n",
        "from keras import backend as K\n",
        "import numpy as np\n",
        "import matplotlib.pyplot as plt\n",
        "\n",
        "from keras.datasets import mnist\n",
        "from keras.models import Sequential\n",
        "from keras.layers.core import Dense, Dropout, Activation\n",
        "from keras.utils import np_utils, to_categorical\n",
        "\n",
        "def recall(y_true, y_pred):\n",
        "\n",
        "    true_positives = K.sum(K.round(K.clip(y_true * y_pred, 0, 1)))\n",
        "    possible_positives = K.sum(K.round(K.clip(y_true, 0, 1)))\n",
        "    recall = true_positives / (possible_positives + K.epsilon())\n",
        "    return recall\n",
        "\n",
        "\n",
        "def precision(y_true, y_pred):\n",
        "\n",
        "    true_positives = K.sum(K.round(K.clip(y_true * y_pred, 0, 1)))\n",
        "    predicted_positives = K.sum(K.round(K.clip(y_pred, 0, 1)))\n",
        "    precision = true_positives / (predicted_positives + K.epsilon())\n",
        "    return precision\n",
        "\n",
        "\n",
        "def f1(y_true, y_pred):\n",
        "    p = precision(y_true, y_pred)\n",
        "    r = recall(y_true, y_pred)\n",
        "    return 2 * ((p * r) / (p + r))"
      ],
      "execution_count": 0,
      "outputs": [
        {
          "output_type": "stream",
          "text": [
            "Using TensorFlow backend.\n"
          ],
          "name": "stderr"
        }
      ]
    },
    {
      "cell_type": "markdown",
      "metadata": {
        "id": "XuY9k3cmxUsB",
        "colab_type": "text"
      },
      "source": [
        "## train test seperation"
      ]
    },
    {
      "cell_type": "code",
      "metadata": {
        "id": "syyWBvvVAQYR",
        "colab_type": "code",
        "outputId": "ad6920fe-3f82-457c-ee6d-f720096f01ac",
        "colab": {
          "base_uri": "https://localhost:8080/",
          "height": 35
        }
      },
      "source": [
        "x_val = x_train[:6000]\n",
        "partial_x_train = x_train[6000:]\n",
        "y_val = y_train[:6000]\n",
        "partial_y_train = y_train[6000:]\n",
        "\n",
        "x_train.shape\n"
      ],
      "execution_count": 0,
      "outputs": [
        {
          "output_type": "execute_result",
          "data": {
            "text/plain": [
              "(60000, 32, 32, 1)"
            ]
          },
          "metadata": {
            "tags": []
          },
          "execution_count": 4
        }
      ]
    },
    {
      "cell_type": "markdown",
      "metadata": {
        "id": "6cRFpYeXxPUp",
        "colab_type": "text"
      },
      "source": [
        "## Model"
      ]
    },
    {
      "cell_type": "code",
      "metadata": {
        "id": "FcKkF6ZeFFg7",
        "colab_type": "code",
        "outputId": "99d7ad99-7b0a-4df2-ef7b-3ceeeddb4253",
        "colab": {
          "base_uri": "https://localhost:8080/",
          "height": 1000
        }
      },
      "source": [
        "from keras.layers import Input,Conv2D,MaxPooling2D,Flatten,Dense,Dropout\n",
        "from keras.models import Model\n",
        "from keras.preprocessing.image import ImageDataGenerator\n",
        "from keras.applications import VGG16\n",
        "from keras import models\n",
        "from keras import layers\n",
        "from keras.applications.imagenet_utils import preprocess_input\n",
        "from keras import optimizers\n",
        "from keras import metrics\n",
        "\n",
        "input_img = Input(shape=(32,32,1))\n",
        "conv = Conv2D(32, (5, 5), activation='relu')(input_img)\n",
        "conv = Conv2D(32, (3, 3), activation='relu')(input_img)\n",
        "pooling = MaxPooling2D((2, 2))(conv)\n",
        "conv = Conv2D(64, (3, 3), activation='relu')(pooling)\n",
        "pooling = MaxPooling2D((2, 2))(conv)\n",
        "conv = Conv2D(128, (3, 3), activation='relu')(pooling)\n",
        "conv = Conv2D(128, (3, 3), activation='relu')(pooling)\n",
        "pooling = MaxPooling2D((2, 2))(conv)\n",
        "flatten = Flatten()(pooling)\n",
        "dense = Dense(512, activation='relu')(flatten)\n",
        "dense = Dropout(0.5)(dense)\n",
        "dense = Dense(256, activation='relu')(dense)\n",
        "dense = Dropout(0.5)(dense)\n",
        "dense = Dense(128, activation='relu')(dense)\n",
        "dense = Dense(10, activation='sigmoid')(dense)\n",
        "\n",
        "model = Model(inputs=input_img, outputs=dense)\n",
        "model.summary()\n",
        "\n",
        "model.compile(loss='binary_crossentropy', optimizer=optimizers.RMSprop(lr=2e-5),\n",
        "              metrics=[\"accuracy\"])\n",
        "\n",
        "history = model.fit(partial_x_train, \n",
        "                    partial_y_train, \n",
        "                    epochs=30, \n",
        "                    batch_size=180\n",
        "                    ,validation_data=(x_val, y_val))"
      ],
      "execution_count": 0,
      "outputs": [
        {
          "output_type": "stream",
          "text": [
            "Model: \"model_4\"\n",
            "_________________________________________________________________\n",
            "Layer (type)                 Output Shape              Param #   \n",
            "=================================================================\n",
            "input_4 (InputLayer)         (None, 32, 32, 1)         0         \n",
            "_________________________________________________________________\n",
            "conv2d_11 (Conv2D)           (None, 30, 30, 32)        320       \n",
            "_________________________________________________________________\n",
            "max_pooling2d_10 (MaxPooling (None, 15, 15, 32)        0         \n",
            "_________________________________________________________________\n",
            "conv2d_12 (Conv2D)           (None, 13, 13, 64)        18496     \n",
            "_________________________________________________________________\n",
            "max_pooling2d_11 (MaxPooling (None, 6, 6, 64)          0         \n",
            "_________________________________________________________________\n",
            "conv2d_14 (Conv2D)           (None, 4, 4, 128)         73856     \n",
            "_________________________________________________________________\n",
            "max_pooling2d_12 (MaxPooling (None, 2, 2, 128)         0         \n",
            "_________________________________________________________________\n",
            "flatten_4 (Flatten)          (None, 512)               0         \n",
            "_________________________________________________________________\n",
            "dense_13 (Dense)             (None, 512)               262656    \n",
            "_________________________________________________________________\n",
            "dropout_7 (Dropout)          (None, 512)               0         \n",
            "_________________________________________________________________\n",
            "dense_14 (Dense)             (None, 256)               131328    \n",
            "_________________________________________________________________\n",
            "dropout_8 (Dropout)          (None, 256)               0         \n",
            "_________________________________________________________________\n",
            "dense_15 (Dense)             (None, 128)               32896     \n",
            "_________________________________________________________________\n",
            "dense_16 (Dense)             (None, 10)                1290      \n",
            "=================================================================\n",
            "Total params: 520,842\n",
            "Trainable params: 520,842\n",
            "Non-trainable params: 0\n",
            "_________________________________________________________________\n",
            "Train on 54000 samples, validate on 6000 samples\n",
            "Epoch 1/30\n",
            "54000/54000 [==============================] - 69s 1ms/step - loss: 0.4368 - acc: 0.8661 - val_loss: 0.3111 - val_acc: 0.9000\n",
            "Epoch 2/30\n",
            "54000/54000 [==============================] - 68s 1ms/step - loss: 0.3008 - acc: 0.9003 - val_loss: 0.2240 - val_acc: 0.9002\n",
            "Epoch 3/30\n",
            "54000/54000 [==============================] - 67s 1ms/step - loss: 0.2050 - acc: 0.9175 - val_loss: 0.1271 - val_acc: 0.9560\n",
            "Epoch 4/30\n",
            "54000/54000 [==============================] - 66s 1ms/step - loss: 0.1383 - acc: 0.9440 - val_loss: 0.0901 - val_acc: 0.9666\n",
            "Epoch 5/30\n",
            "54000/54000 [==============================] - 67s 1ms/step - loss: 0.1033 - acc: 0.9599 - val_loss: 0.0689 - val_acc: 0.9740\n",
            "Epoch 6/30\n",
            "54000/54000 [==============================] - 67s 1ms/step - loss: 0.0825 - acc: 0.9689 - val_loss: 0.0572 - val_acc: 0.9784\n",
            "Epoch 7/30\n",
            "54000/54000 [==============================] - 66s 1ms/step - loss: 0.0686 - acc: 0.9750 - val_loss: 0.0480 - val_acc: 0.9820\n",
            "Epoch 8/30\n",
            "54000/54000 [==============================] - 67s 1ms/step - loss: 0.0585 - acc: 0.9794 - val_loss: 0.0411 - val_acc: 0.9852\n",
            "Epoch 9/30\n",
            "54000/54000 [==============================] - 67s 1ms/step - loss: 0.0506 - acc: 0.9825 - val_loss: 0.0352 - val_acc: 0.9876\n",
            "Epoch 10/30\n",
            "54000/54000 [==============================] - 67s 1ms/step - loss: 0.0440 - acc: 0.9851 - val_loss: 0.0306 - val_acc: 0.9893\n",
            "Epoch 11/30\n",
            "54000/54000 [==============================] - 67s 1ms/step - loss: 0.0385 - acc: 0.9871 - val_loss: 0.0268 - val_acc: 0.9907\n",
            "Epoch 12/30\n",
            "54000/54000 [==============================] - 69s 1ms/step - loss: 0.0341 - acc: 0.9888 - val_loss: 0.0235 - val_acc: 0.9919\n",
            "Epoch 13/30\n",
            "54000/54000 [==============================] - 68s 1ms/step - loss: 0.0308 - acc: 0.9900 - val_loss: 0.0207 - val_acc: 0.9927\n",
            "Epoch 14/30\n",
            "54000/54000 [==============================] - 68s 1ms/step - loss: 0.0277 - acc: 0.9911 - val_loss: 0.0189 - val_acc: 0.9932\n",
            "Epoch 15/30\n",
            "54000/54000 [==============================] - 68s 1ms/step - loss: 0.0254 - acc: 0.9919 - val_loss: 0.0176 - val_acc: 0.9936\n",
            "Epoch 16/30\n",
            "54000/54000 [==============================] - 68s 1ms/step - loss: 0.0235 - acc: 0.9924 - val_loss: 0.0160 - val_acc: 0.9941\n",
            "Epoch 17/30\n",
            "54000/54000 [==============================] - 69s 1ms/step - loss: 0.0212 - acc: 0.9933 - val_loss: 0.0148 - val_acc: 0.9945\n",
            "Epoch 18/30\n",
            "54000/54000 [==============================] - 67s 1ms/step - loss: 0.0200 - acc: 0.9936 - val_loss: 0.0139 - val_acc: 0.9951\n",
            "Epoch 19/30\n",
            "54000/54000 [==============================] - 67s 1ms/step - loss: 0.0188 - acc: 0.9942 - val_loss: 0.0131 - val_acc: 0.9954\n",
            "Epoch 20/30\n",
            "54000/54000 [==============================] - 67s 1ms/step - loss: 0.0174 - acc: 0.9945 - val_loss: 0.0124 - val_acc: 0.9958\n",
            "Epoch 21/30\n",
            "54000/54000 [==============================] - 67s 1ms/step - loss: 0.0163 - acc: 0.9949 - val_loss: 0.0116 - val_acc: 0.9959\n",
            "Epoch 22/30\n",
            "54000/54000 [==============================] - 67s 1ms/step - loss: 0.0158 - acc: 0.9951 - val_loss: 0.0112 - val_acc: 0.9963\n",
            "Epoch 23/30\n",
            "54000/54000 [==============================] - 68s 1ms/step - loss: 0.0147 - acc: 0.9954 - val_loss: 0.0108 - val_acc: 0.9964\n",
            "Epoch 24/30\n",
            "54000/54000 [==============================] - 69s 1ms/step - loss: 0.0142 - acc: 0.9955 - val_loss: 0.0104 - val_acc: 0.9965\n",
            "Epoch 25/30\n",
            "54000/54000 [==============================] - 69s 1ms/step - loss: 0.0132 - acc: 0.9958 - val_loss: 0.0102 - val_acc: 0.9964\n",
            "Epoch 26/30\n",
            "12240/54000 [=====>........................] - ETA: 51s - loss: 0.0132 - acc: 0.9959"
          ],
          "name": "stdout"
        },
        {
          "output_type": "error",
          "ename": "KeyboardInterrupt",
          "evalue": "ignored",
          "traceback": [
            "\u001b[0;31m---------------------------------------------------------------------------\u001b[0m",
            "\u001b[0;31mKeyboardInterrupt\u001b[0m                         Traceback (most recent call last)",
            "\u001b[0;32m<ipython-input-11-ba7246a2d042>\u001b[0m in \u001b[0;36m<module>\u001b[0;34m()\u001b[0m\n\u001b[1;32m     36\u001b[0m                     \u001b[0mepochs\u001b[0m\u001b[0;34m=\u001b[0m\u001b[0;36m30\u001b[0m\u001b[0;34m,\u001b[0m\u001b[0;34m\u001b[0m\u001b[0;34m\u001b[0m\u001b[0m\n\u001b[1;32m     37\u001b[0m                     \u001b[0mbatch_size\u001b[0m\u001b[0;34m=\u001b[0m\u001b[0;36m180\u001b[0m\u001b[0;34m\u001b[0m\u001b[0;34m\u001b[0m\u001b[0m\n\u001b[0;32m---> 38\u001b[0;31m                     ,validation_data=(x_val, y_val))\n\u001b[0m",
            "\u001b[0;32m/usr/local/lib/python3.6/dist-packages/keras/engine/training.py\u001b[0m in \u001b[0;36mfit\u001b[0;34m(self, x, y, batch_size, epochs, verbose, callbacks, validation_split, validation_data, shuffle, class_weight, sample_weight, initial_epoch, steps_per_epoch, validation_steps, validation_freq, max_queue_size, workers, use_multiprocessing, **kwargs)\u001b[0m\n\u001b[1;32m   1176\u001b[0m                                         \u001b[0msteps_per_epoch\u001b[0m\u001b[0;34m=\u001b[0m\u001b[0msteps_per_epoch\u001b[0m\u001b[0;34m,\u001b[0m\u001b[0;34m\u001b[0m\u001b[0;34m\u001b[0m\u001b[0m\n\u001b[1;32m   1177\u001b[0m                                         \u001b[0mvalidation_steps\u001b[0m\u001b[0;34m=\u001b[0m\u001b[0mvalidation_steps\u001b[0m\u001b[0;34m,\u001b[0m\u001b[0;34m\u001b[0m\u001b[0;34m\u001b[0m\u001b[0m\n\u001b[0;32m-> 1178\u001b[0;31m                                         validation_freq=validation_freq)\n\u001b[0m\u001b[1;32m   1179\u001b[0m \u001b[0;34m\u001b[0m\u001b[0m\n\u001b[1;32m   1180\u001b[0m     def evaluate(self,\n",
            "\u001b[0;32m/usr/local/lib/python3.6/dist-packages/keras/engine/training_arrays.py\u001b[0m in \u001b[0;36mfit_loop\u001b[0;34m(model, fit_function, fit_inputs, out_labels, batch_size, epochs, verbose, callbacks, val_function, val_inputs, shuffle, callback_metrics, initial_epoch, steps_per_epoch, validation_steps, validation_freq)\u001b[0m\n\u001b[1;32m    202\u001b[0m                     \u001b[0mins_batch\u001b[0m\u001b[0;34m[\u001b[0m\u001b[0mi\u001b[0m\u001b[0;34m]\u001b[0m \u001b[0;34m=\u001b[0m \u001b[0mins_batch\u001b[0m\u001b[0;34m[\u001b[0m\u001b[0mi\u001b[0m\u001b[0;34m]\u001b[0m\u001b[0;34m.\u001b[0m\u001b[0mtoarray\u001b[0m\u001b[0;34m(\u001b[0m\u001b[0;34m)\u001b[0m\u001b[0;34m\u001b[0m\u001b[0;34m\u001b[0m\u001b[0m\n\u001b[1;32m    203\u001b[0m \u001b[0;34m\u001b[0m\u001b[0m\n\u001b[0;32m--> 204\u001b[0;31m                 \u001b[0mouts\u001b[0m \u001b[0;34m=\u001b[0m \u001b[0mfit_function\u001b[0m\u001b[0;34m(\u001b[0m\u001b[0mins_batch\u001b[0m\u001b[0;34m)\u001b[0m\u001b[0;34m\u001b[0m\u001b[0;34m\u001b[0m\u001b[0m\n\u001b[0m\u001b[1;32m    205\u001b[0m                 \u001b[0mouts\u001b[0m \u001b[0;34m=\u001b[0m \u001b[0mto_list\u001b[0m\u001b[0;34m(\u001b[0m\u001b[0mouts\u001b[0m\u001b[0;34m)\u001b[0m\u001b[0;34m\u001b[0m\u001b[0;34m\u001b[0m\u001b[0m\n\u001b[1;32m    206\u001b[0m                 \u001b[0;32mfor\u001b[0m \u001b[0ml\u001b[0m\u001b[0;34m,\u001b[0m \u001b[0mo\u001b[0m \u001b[0;32min\u001b[0m \u001b[0mzip\u001b[0m\u001b[0;34m(\u001b[0m\u001b[0mout_labels\u001b[0m\u001b[0;34m,\u001b[0m \u001b[0mouts\u001b[0m\u001b[0;34m)\u001b[0m\u001b[0;34m:\u001b[0m\u001b[0;34m\u001b[0m\u001b[0;34m\u001b[0m\u001b[0m\n",
            "\u001b[0;32m/usr/local/lib/python3.6/dist-packages/keras/backend/tensorflow_backend.py\u001b[0m in \u001b[0;36m__call__\u001b[0;34m(self, inputs)\u001b[0m\n\u001b[1;32m   2977\u001b[0m                     \u001b[0;32mreturn\u001b[0m \u001b[0mself\u001b[0m\u001b[0;34m.\u001b[0m\u001b[0m_legacy_call\u001b[0m\u001b[0;34m(\u001b[0m\u001b[0minputs\u001b[0m\u001b[0;34m)\u001b[0m\u001b[0;34m\u001b[0m\u001b[0;34m\u001b[0m\u001b[0m\n\u001b[1;32m   2978\u001b[0m \u001b[0;34m\u001b[0m\u001b[0m\n\u001b[0;32m-> 2979\u001b[0;31m             \u001b[0;32mreturn\u001b[0m \u001b[0mself\u001b[0m\u001b[0;34m.\u001b[0m\u001b[0m_call\u001b[0m\u001b[0;34m(\u001b[0m\u001b[0minputs\u001b[0m\u001b[0;34m)\u001b[0m\u001b[0;34m\u001b[0m\u001b[0;34m\u001b[0m\u001b[0m\n\u001b[0m\u001b[1;32m   2980\u001b[0m         \u001b[0;32melse\u001b[0m\u001b[0;34m:\u001b[0m\u001b[0;34m\u001b[0m\u001b[0;34m\u001b[0m\u001b[0m\n\u001b[1;32m   2981\u001b[0m             \u001b[0;32mif\u001b[0m \u001b[0mpy_any\u001b[0m\u001b[0;34m(\u001b[0m\u001b[0mis_tensor\u001b[0m\u001b[0;34m(\u001b[0m\u001b[0mx\u001b[0m\u001b[0;34m)\u001b[0m \u001b[0;32mfor\u001b[0m \u001b[0mx\u001b[0m \u001b[0;32min\u001b[0m \u001b[0minputs\u001b[0m\u001b[0;34m)\u001b[0m\u001b[0;34m:\u001b[0m\u001b[0;34m\u001b[0m\u001b[0;34m\u001b[0m\u001b[0m\n",
            "\u001b[0;32m/usr/local/lib/python3.6/dist-packages/keras/backend/tensorflow_backend.py\u001b[0m in \u001b[0;36m_call\u001b[0;34m(self, inputs)\u001b[0m\n\u001b[1;32m   2935\u001b[0m             \u001b[0mfetched\u001b[0m \u001b[0;34m=\u001b[0m \u001b[0mself\u001b[0m\u001b[0;34m.\u001b[0m\u001b[0m_callable_fn\u001b[0m\u001b[0;34m(\u001b[0m\u001b[0;34m*\u001b[0m\u001b[0marray_vals\u001b[0m\u001b[0;34m,\u001b[0m \u001b[0mrun_metadata\u001b[0m\u001b[0;34m=\u001b[0m\u001b[0mself\u001b[0m\u001b[0;34m.\u001b[0m\u001b[0mrun_metadata\u001b[0m\u001b[0;34m)\u001b[0m\u001b[0;34m\u001b[0m\u001b[0;34m\u001b[0m\u001b[0m\n\u001b[1;32m   2936\u001b[0m         \u001b[0;32melse\u001b[0m\u001b[0;34m:\u001b[0m\u001b[0;34m\u001b[0m\u001b[0;34m\u001b[0m\u001b[0m\n\u001b[0;32m-> 2937\u001b[0;31m             \u001b[0mfetched\u001b[0m \u001b[0;34m=\u001b[0m \u001b[0mself\u001b[0m\u001b[0;34m.\u001b[0m\u001b[0m_callable_fn\u001b[0m\u001b[0;34m(\u001b[0m\u001b[0;34m*\u001b[0m\u001b[0marray_vals\u001b[0m\u001b[0;34m)\u001b[0m\u001b[0;34m\u001b[0m\u001b[0;34m\u001b[0m\u001b[0m\n\u001b[0m\u001b[1;32m   2938\u001b[0m         \u001b[0;32mreturn\u001b[0m \u001b[0mfetched\u001b[0m\u001b[0;34m[\u001b[0m\u001b[0;34m:\u001b[0m\u001b[0mlen\u001b[0m\u001b[0;34m(\u001b[0m\u001b[0mself\u001b[0m\u001b[0;34m.\u001b[0m\u001b[0moutputs\u001b[0m\u001b[0;34m)\u001b[0m\u001b[0;34m]\u001b[0m\u001b[0;34m\u001b[0m\u001b[0;34m\u001b[0m\u001b[0m\n\u001b[1;32m   2939\u001b[0m \u001b[0;34m\u001b[0m\u001b[0m\n",
            "\u001b[0;32m/usr/local/lib/python3.6/dist-packages/tensorflow_core/python/client/session.py\u001b[0m in \u001b[0;36m__call__\u001b[0;34m(self, *args, **kwargs)\u001b[0m\n\u001b[1;32m   1470\u001b[0m         ret = tf_session.TF_SessionRunCallable(self._session._session,\n\u001b[1;32m   1471\u001b[0m                                                \u001b[0mself\u001b[0m\u001b[0;34m.\u001b[0m\u001b[0m_handle\u001b[0m\u001b[0;34m,\u001b[0m \u001b[0margs\u001b[0m\u001b[0;34m,\u001b[0m\u001b[0;34m\u001b[0m\u001b[0;34m\u001b[0m\u001b[0m\n\u001b[0;32m-> 1472\u001b[0;31m                                                run_metadata_ptr)\n\u001b[0m\u001b[1;32m   1473\u001b[0m         \u001b[0;32mif\u001b[0m \u001b[0mrun_metadata\u001b[0m\u001b[0;34m:\u001b[0m\u001b[0;34m\u001b[0m\u001b[0;34m\u001b[0m\u001b[0m\n\u001b[1;32m   1474\u001b[0m           \u001b[0mproto_data\u001b[0m \u001b[0;34m=\u001b[0m \u001b[0mtf_session\u001b[0m\u001b[0;34m.\u001b[0m\u001b[0mTF_GetBuffer\u001b[0m\u001b[0;34m(\u001b[0m\u001b[0mrun_metadata_ptr\u001b[0m\u001b[0;34m)\u001b[0m\u001b[0;34m\u001b[0m\u001b[0;34m\u001b[0m\u001b[0m\n",
            "\u001b[0;31mKeyboardInterrupt\u001b[0m: "
          ]
        }
      ]
    },
    {
      "cell_type": "code",
      "metadata": {
        "id": "jLFemCHlCa5m",
        "colab_type": "code",
        "colab": {}
      },
      "source": [
        "model.save('../model.h5')"
      ],
      "execution_count": 0,
      "outputs": []
    },
    {
      "cell_type": "code",
      "metadata": {
        "id": "__hEm2GyLsYp",
        "colab_type": "code",
        "colab": {}
      },
      "source": [
        "import matplotlib.pyplot as plt\n",
        "\n",
        "acc = history.history['acc']\n",
        "val_acc = history.history['val_acc']\n",
        "loss = history.history['loss']\n",
        "val_loss = history.history['val_loss']\n",
        "\n",
        "epochs = range(1, len(acc) + 1)\n",
        "\n",
        "plt.plot(epochs, acc, 'bo', label='Training acc')\n",
        "plt.plot(epochs, val_acc, 'b', label='Validation acc')\n",
        "plt.title('Training and validation accuracy')\n",
        "plt.legend()\n",
        "\n",
        "plt.figure()\n",
        "\n",
        "plt.plot(epochs, loss, 'bo', label='Training loss')\n",
        "plt.plot(epochs, val_loss, 'b', label='Validation loss')\n",
        "plt.title('Training and validation loss')\n",
        "plt.legend()\n",
        "\n",
        "plt.show()"
      ],
      "execution_count": 0,
      "outputs": []
    },
    {
      "cell_type": "markdown",
      "metadata": {
        "id": "pHg9xM7qxDeN",
        "colab_type": "text"
      },
      "source": [
        "## Evaluation"
      ]
    },
    {
      "cell_type": "code",
      "metadata": {
        "id": "7Nw8Ztd2L_U5",
        "colab_type": "code",
        "colab": {}
      },
      "source": [
        "score = model.evaluate(x_test, y_test)\n",
        "for i in range(len(score)):\n",
        "  print(str(list(model.metrics_names)[i])+\" : \"+ str(score[i]))"
      ],
      "execution_count": 0,
      "outputs": []
    },
    {
      "cell_type": "markdown",
      "metadata": {
        "id": "T0HsTLTrw0QE",
        "colab_type": "text"
      },
      "source": [
        "## confusion matrix"
      ]
    },
    {
      "cell_type": "code",
      "metadata": {
        "id": "WaxPd6RWAQYU",
        "colab_type": "code",
        "colab": {}
      },
      "source": [
        "from sklearn.metrics import confusion_matrix\n",
        "import numpy as np\n",
        "import matplotlib.pyplot as plt\n",
        "\n",
        "\n",
        "predicted_classes = model.predict(x_test)\n",
        "matrix = confusion_matrix(y_test.argmax(axis=1), predicted_classes.argmax(axis=1))\n",
        "print(matrix)\n"
      ],
      "execution_count": 0,
      "outputs": []
    },
    {
      "cell_type": "markdown",
      "metadata": {
        "id": "TFxxFBXFw8u2",
        "colab_type": "text"
      },
      "source": [
        "## wrong results\n"
      ]
    },
    {
      "cell_type": "code",
      "metadata": {
        "id": "a53nnot5M4uP",
        "colab_type": "code",
        "colab": {}
      },
      "source": [
        "diff = np.abs(predicted_classes-y_test)\n",
        "error = np.sum(np.abs(diff),axis=1)\n",
        "wrongs = []\n",
        "for i in range(10):\n",
        "  max_index = np.argmax(error)\n",
        "  wrongs.append(max_index)\n",
        "  error[max_index] = 0"
      ],
      "execution_count": 0,
      "outputs": []
    },
    {
      "cell_type": "code",
      "metadata": {
        "id": "LBVJ284MMi6h",
        "colab_type": "code",
        "colab": {}
      },
      "source": [
        "\n",
        "\n",
        "w = 10\n",
        "h = 10\n",
        "fig = plt.figure(figsize=(9, 13))\n",
        "columns = 2\n",
        "rows = 5\n",
        "\n",
        "xs = np.linspace(0, 2*np.pi, 60)  \n",
        "ys = np.abs(np.sin(xs))           \n",
        "\n",
        "ax = []\n",
        "\n",
        "for i in range(columns*rows):\n",
        "    x = wrongs[i]\n",
        "    img = x_test[x].reshape(32,32)\n",
        "    ax.append( fig.add_subplot(rows, columns, i+1) )\n",
        "    ax[-1].set_title(\"predicted:\"+str(predicted_classes[x].argmax())+\" \"+\"tag:\"+str(y_test[x].argmax()))  \n",
        "    plt.imshow(img)\n",
        "\n",
        "plt.show()"
      ],
      "execution_count": 0,
      "outputs": []
    }
  ]
}